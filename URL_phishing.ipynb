{
 "cells": [
  {
   "cell_type": "markdown",
   "id": "db900ba6",
   "metadata": {},
   "source": [
    "## KNN Classifier Implemented by Joscandy Nunez"
   ]
  },
  {
   "cell_type": "code",
   "execution_count": 2,
   "id": "06c5ba52",
   "metadata": {},
   "outputs": [
    {
     "data": {
      "text/plain": "   https_token  ratio_digits_url  nb_hyphens  nb_dots  nb_underscore  \\\n0            1          0.000000           0        3              0   \n1            1          0.220779           0        1              0   \n2            0          0.150794           1        4              2   \n3            1          0.000000           0        2              0   \n4            1          0.000000           2        2              0   \n\n   nb_slash      status  \n0         3  legitimate  \n1         5    phishing  \n2         5    phishing  \n3         2  legitimate  \n4         5  legitimate  ",
      "text/html": "<div>\n<style scoped>\n    .dataframe tbody tr th:only-of-type {\n        vertical-align: middle;\n    }\n\n    .dataframe tbody tr th {\n        vertical-align: top;\n    }\n\n    .dataframe thead th {\n        text-align: right;\n    }\n</style>\n<table border=\"1\" class=\"dataframe\">\n  <thead>\n    <tr style=\"text-align: right;\">\n      <th></th>\n      <th>https_token</th>\n      <th>ratio_digits_url</th>\n      <th>nb_hyphens</th>\n      <th>nb_dots</th>\n      <th>nb_underscore</th>\n      <th>nb_slash</th>\n      <th>status</th>\n    </tr>\n  </thead>\n  <tbody>\n    <tr>\n      <th>0</th>\n      <td>1</td>\n      <td>0.000000</td>\n      <td>0</td>\n      <td>3</td>\n      <td>0</td>\n      <td>3</td>\n      <td>legitimate</td>\n    </tr>\n    <tr>\n      <th>1</th>\n      <td>1</td>\n      <td>0.220779</td>\n      <td>0</td>\n      <td>1</td>\n      <td>0</td>\n      <td>5</td>\n      <td>phishing</td>\n    </tr>\n    <tr>\n      <th>2</th>\n      <td>0</td>\n      <td>0.150794</td>\n      <td>1</td>\n      <td>4</td>\n      <td>2</td>\n      <td>5</td>\n      <td>phishing</td>\n    </tr>\n    <tr>\n      <th>3</th>\n      <td>1</td>\n      <td>0.000000</td>\n      <td>0</td>\n      <td>2</td>\n      <td>0</td>\n      <td>2</td>\n      <td>legitimate</td>\n    </tr>\n    <tr>\n      <th>4</th>\n      <td>1</td>\n      <td>0.000000</td>\n      <td>2</td>\n      <td>2</td>\n      <td>0</td>\n      <td>5</td>\n      <td>legitimate</td>\n    </tr>\n  </tbody>\n</table>\n</div>"
     },
     "execution_count": 2,
     "metadata": {},
     "output_type": "execute_result"
    }
   ],
   "source": [
    "import numpy as np\n",
    "import matplotlib.pyplot as plt\n",
    "import pandas as pd\n",
    "from sklearn.model_selection import train_test_split\n",
    "\n",
    "# read in data\n",
    "data = pd.read_csv('dataset_phishing.csv')\n",
    "# observe a few samples of the data\n",
    "data[['https_token', 'ratio_digits_url', 'nb_hyphens', 'nb_dots', 'nb_underscore', 'nb_slash', 'status']].head()\n"
   ]
  },
  {
   "cell_type": "code",
   "execution_count": 3,
   "id": "95dc0ee3",
   "metadata": {},
   "outputs": [
    {
     "data": {
      "text/plain": "                                                 url  length_url  \\\n0              http://www.crestonwood.com/router.php          37   \n1  http://shadetreetechnology.com/V4/validation/a...          77   \n2  https://support-appleld.com.secureupdate.duila...         126   \n3                                 http://rgipt.ac.in          18   \n4  http://www.iracing.com/tracks/gateway-motorspo...          55   \n\n   length_hostname  ip  nb_dots  nb_hyphens  nb_at  nb_qm  nb_and  nb_or  ...  \\\n0               19   0        3           0      0      0       0      0  ...   \n1               23   1        1           0      0      0       0      0  ...   \n2               50   1        4           1      0      1       2      0  ...   \n3               11   0        2           0      0      0       0      0  ...   \n4               15   0        2           2      0      0       0      0  ...   \n\n   domain_in_title  domain_with_copyright  whois_registered_domain  \\\n0                0                      1                        0   \n1                1                      0                        0   \n2                1                      0                        0   \n3                1                      0                        0   \n4                0                      1                        0   \n\n   domain_registration_length  domain_age  web_traffic  dns_record  \\\n0                          45          -1            0           1   \n1                          77        5767            0           0   \n2                          14        4004      5828815           0   \n3                          62          -1       107721           0   \n4                         224        8175         8725           0   \n\n   google_index  page_rank      status  \n0             1          4  legitimate  \n1             1          2    phishing  \n2             1          0    phishing  \n3             0          3  legitimate  \n4             0          6  legitimate  \n\n[5 rows x 89 columns]",
      "text/html": "<div>\n<style scoped>\n    .dataframe tbody tr th:only-of-type {\n        vertical-align: middle;\n    }\n\n    .dataframe tbody tr th {\n        vertical-align: top;\n    }\n\n    .dataframe thead th {\n        text-align: right;\n    }\n</style>\n<table border=\"1\" class=\"dataframe\">\n  <thead>\n    <tr style=\"text-align: right;\">\n      <th></th>\n      <th>url</th>\n      <th>length_url</th>\n      <th>length_hostname</th>\n      <th>ip</th>\n      <th>nb_dots</th>\n      <th>nb_hyphens</th>\n      <th>nb_at</th>\n      <th>nb_qm</th>\n      <th>nb_and</th>\n      <th>nb_or</th>\n      <th>...</th>\n      <th>domain_in_title</th>\n      <th>domain_with_copyright</th>\n      <th>whois_registered_domain</th>\n      <th>domain_registration_length</th>\n      <th>domain_age</th>\n      <th>web_traffic</th>\n      <th>dns_record</th>\n      <th>google_index</th>\n      <th>page_rank</th>\n      <th>status</th>\n    </tr>\n  </thead>\n  <tbody>\n    <tr>\n      <th>0</th>\n      <td>http://www.crestonwood.com/router.php</td>\n      <td>37</td>\n      <td>19</td>\n      <td>0</td>\n      <td>3</td>\n      <td>0</td>\n      <td>0</td>\n      <td>0</td>\n      <td>0</td>\n      <td>0</td>\n      <td>...</td>\n      <td>0</td>\n      <td>1</td>\n      <td>0</td>\n      <td>45</td>\n      <td>-1</td>\n      <td>0</td>\n      <td>1</td>\n      <td>1</td>\n      <td>4</td>\n      <td>legitimate</td>\n    </tr>\n    <tr>\n      <th>1</th>\n      <td>http://shadetreetechnology.com/V4/validation/a...</td>\n      <td>77</td>\n      <td>23</td>\n      <td>1</td>\n      <td>1</td>\n      <td>0</td>\n      <td>0</td>\n      <td>0</td>\n      <td>0</td>\n      <td>0</td>\n      <td>...</td>\n      <td>1</td>\n      <td>0</td>\n      <td>0</td>\n      <td>77</td>\n      <td>5767</td>\n      <td>0</td>\n      <td>0</td>\n      <td>1</td>\n      <td>2</td>\n      <td>phishing</td>\n    </tr>\n    <tr>\n      <th>2</th>\n      <td>https://support-appleld.com.secureupdate.duila...</td>\n      <td>126</td>\n      <td>50</td>\n      <td>1</td>\n      <td>4</td>\n      <td>1</td>\n      <td>0</td>\n      <td>1</td>\n      <td>2</td>\n      <td>0</td>\n      <td>...</td>\n      <td>1</td>\n      <td>0</td>\n      <td>0</td>\n      <td>14</td>\n      <td>4004</td>\n      <td>5828815</td>\n      <td>0</td>\n      <td>1</td>\n      <td>0</td>\n      <td>phishing</td>\n    </tr>\n    <tr>\n      <th>3</th>\n      <td>http://rgipt.ac.in</td>\n      <td>18</td>\n      <td>11</td>\n      <td>0</td>\n      <td>2</td>\n      <td>0</td>\n      <td>0</td>\n      <td>0</td>\n      <td>0</td>\n      <td>0</td>\n      <td>...</td>\n      <td>1</td>\n      <td>0</td>\n      <td>0</td>\n      <td>62</td>\n      <td>-1</td>\n      <td>107721</td>\n      <td>0</td>\n      <td>0</td>\n      <td>3</td>\n      <td>legitimate</td>\n    </tr>\n    <tr>\n      <th>4</th>\n      <td>http://www.iracing.com/tracks/gateway-motorspo...</td>\n      <td>55</td>\n      <td>15</td>\n      <td>0</td>\n      <td>2</td>\n      <td>2</td>\n      <td>0</td>\n      <td>0</td>\n      <td>0</td>\n      <td>0</td>\n      <td>...</td>\n      <td>0</td>\n      <td>1</td>\n      <td>0</td>\n      <td>224</td>\n      <td>8175</td>\n      <td>8725</td>\n      <td>0</td>\n      <td>0</td>\n      <td>6</td>\n      <td>legitimate</td>\n    </tr>\n  </tbody>\n</table>\n<p>5 rows × 89 columns</p>\n</div>"
     },
     "execution_count": 3,
     "metadata": {},
     "output_type": "execute_result"
    }
   ],
   "source": [
    "# observe entire data\n",
    "data.head()"
   ]
  },
  {
   "cell_type": "code",
   "execution_count": 4,
   "id": "7c884335",
   "metadata": {},
   "outputs": [
    {
     "name": "stdout",
     "output_type": "stream",
     "text": [
      "<class 'pandas.core.frame.DataFrame'>\n",
      "RangeIndex: 11430 entries, 0 to 11429\n",
      "Data columns (total 89 columns):\n",
      " #   Column                      Non-Null Count  Dtype  \n",
      "---  ------                      --------------  -----  \n",
      " 0   url                         11430 non-null  object \n",
      " 1   length_url                  11430 non-null  int64  \n",
      " 2   length_hostname             11430 non-null  int64  \n",
      " 3   ip                          11430 non-null  int64  \n",
      " 4   nb_dots                     11430 non-null  int64  \n",
      " 5   nb_hyphens                  11430 non-null  int64  \n",
      " 6   nb_at                       11430 non-null  int64  \n",
      " 7   nb_qm                       11430 non-null  int64  \n",
      " 8   nb_and                      11430 non-null  int64  \n",
      " 9   nb_or                       11430 non-null  int64  \n",
      " 10  nb_eq                       11430 non-null  int64  \n",
      " 11  nb_underscore               11430 non-null  int64  \n",
      " 12  nb_tilde                    11430 non-null  int64  \n",
      " 13  nb_percent                  11430 non-null  int64  \n",
      " 14  nb_slash                    11430 non-null  int64  \n",
      " 15  nb_star                     11430 non-null  int64  \n",
      " 16  nb_colon                    11430 non-null  int64  \n",
      " 17  nb_comma                    11430 non-null  int64  \n",
      " 18  nb_semicolumn               11430 non-null  int64  \n",
      " 19  nb_dollar                   11430 non-null  int64  \n",
      " 20  nb_space                    11430 non-null  int64  \n",
      " 21  nb_www                      11430 non-null  int64  \n",
      " 22  nb_com                      11430 non-null  int64  \n",
      " 23  nb_dslash                   11430 non-null  int64  \n",
      " 24  http_in_path                11430 non-null  int64  \n",
      " 25  https_token                 11430 non-null  int64  \n",
      " 26  ratio_digits_url            11430 non-null  float64\n",
      " 27  ratio_digits_host           11430 non-null  float64\n",
      " 28  punycode                    11430 non-null  int64  \n",
      " 29  port                        11430 non-null  int64  \n",
      " 30  tld_in_path                 11430 non-null  int64  \n",
      " 31  tld_in_subdomain            11430 non-null  int64  \n",
      " 32  abnormal_subdomain          11430 non-null  int64  \n",
      " 33  nb_subdomains               11430 non-null  int64  \n",
      " 34  prefix_suffix               11430 non-null  int64  \n",
      " 35  random_domain               11430 non-null  int64  \n",
      " 36  shortening_service          11430 non-null  int64  \n",
      " 37  path_extension              11430 non-null  int64  \n",
      " 38  nb_redirection              11430 non-null  int64  \n",
      " 39  nb_external_redirection     11430 non-null  int64  \n",
      " 40  length_words_raw            11430 non-null  int64  \n",
      " 41  char_repeat                 11430 non-null  int64  \n",
      " 42  shortest_words_raw          11430 non-null  int64  \n",
      " 43  shortest_word_host          11430 non-null  int64  \n",
      " 44  shortest_word_path          11430 non-null  int64  \n",
      " 45  longest_words_raw           11430 non-null  int64  \n",
      " 46  longest_word_host           11430 non-null  int64  \n",
      " 47  longest_word_path           11430 non-null  int64  \n",
      " 48  avg_words_raw               11430 non-null  float64\n",
      " 49  avg_word_host               11430 non-null  float64\n",
      " 50  avg_word_path               11430 non-null  float64\n",
      " 51  phish_hints                 11430 non-null  int64  \n",
      " 52  domain_in_brand             11430 non-null  int64  \n",
      " 53  brand_in_subdomain          11430 non-null  int64  \n",
      " 54  brand_in_path               11430 non-null  int64  \n",
      " 55  suspecious_tld              11430 non-null  int64  \n",
      " 56  statistical_report          11430 non-null  int64  \n",
      " 57  nb_hyperlinks               11430 non-null  int64  \n",
      " 58  ratio_intHyperlinks         11430 non-null  float64\n",
      " 59  ratio_extHyperlinks         11430 non-null  float64\n",
      " 60  ratio_nullHyperlinks        11430 non-null  int64  \n",
      " 61  nb_extCSS                   11430 non-null  int64  \n",
      " 62  ratio_intRedirection        11430 non-null  int64  \n",
      " 63  ratio_extRedirection        11430 non-null  float64\n",
      " 64  ratio_intErrors             11430 non-null  int64  \n",
      " 65  ratio_extErrors             11430 non-null  float64\n",
      " 66  login_form                  11430 non-null  int64  \n",
      " 67  external_favicon            11430 non-null  int64  \n",
      " 68  links_in_tags               11430 non-null  float64\n",
      " 69  submit_email                11430 non-null  int64  \n",
      " 70  ratio_intMedia              11430 non-null  float64\n",
      " 71  ratio_extMedia              11430 non-null  float64\n",
      " 72  sfh                         11430 non-null  int64  \n",
      " 73  iframe                      11430 non-null  int64  \n",
      " 74  popup_window                11430 non-null  int64  \n",
      " 75  safe_anchor                 11430 non-null  float64\n",
      " 76  onmouseover                 11430 non-null  int64  \n",
      " 77  right_clic                  11430 non-null  int64  \n",
      " 78  empty_title                 11430 non-null  int64  \n",
      " 79  domain_in_title             11430 non-null  int64  \n",
      " 80  domain_with_copyright       11430 non-null  int64  \n",
      " 81  whois_registered_domain     11430 non-null  int64  \n",
      " 82  domain_registration_length  11430 non-null  int64  \n",
      " 83  domain_age                  11430 non-null  int64  \n",
      " 84  web_traffic                 11430 non-null  int64  \n",
      " 85  dns_record                  11430 non-null  int64  \n",
      " 86  google_index                11430 non-null  int64  \n",
      " 87  page_rank                   11430 non-null  int64  \n",
      " 88  status                      11430 non-null  object \n",
      "dtypes: float64(13), int64(74), object(2)\n",
      "memory usage: 7.8+ MB\n"
     ]
    }
   ],
   "source": [
    "data.info() # further analysis for data cleaning purposes"
   ]
  },
  {
   "cell_type": "code",
   "execution_count": 5,
   "id": "71653514",
   "metadata": {},
   "outputs": [
    {
     "name": "stdout",
     "output_type": "stream",
     "text": [
      "text values  ['legitimate' 'phishing' 'phishing' ... 'legitimate' 'legitimate'\n",
      " 'phishing'] become  [0 1 1 ... 0 0 1]\n"
     ]
    }
   ],
   "source": [
    "from sklearn.tree import DecisionTreeClassifier\n",
    "from sklearn import preprocessing\n",
    "\n",
    "# encode data\n",
    "# temporarily turn text like \"phishing\" and \"legitimate\" into numbers 1 and 0, respectively\n",
    "le = preprocessing.LabelEncoder()\n",
    "le.fit([\"phishing\", \"legitimate\"]) # status of url is the corresponding feature, our target class\n",
    "transformedClass = le.transform(data.status[:].values) # get the new values\n",
    "print(\"text values \", data.status[:].values, \"become \", transformedClass)\n",
    "data['status'] = transformedClass # swap the old values with the new encoded values"
   ]
  },
  {
   "cell_type": "code",
   "execution_count": 6,
   "id": "64e221e1",
   "metadata": {},
   "outputs": [
    {
     "name": "stdout",
     "output_type": "stream",
     "text": [
      "---------------FEATURES---------------------\n",
      "       https_token  ratio_digits_url  nb_hyphens  nb_dots  nb_underscore  \\\n",
      "0                1          0.000000           0        3              0   \n",
      "1                1          0.220779           0        1              0   \n",
      "2                0          0.150794           1        4              2   \n",
      "3                1          0.000000           0        2              0   \n",
      "4                1          0.000000           2        2              0   \n",
      "...            ...               ...         ...      ...            ...   \n",
      "11425            1          0.000000           0        2              0   \n",
      "11426            1          0.023810           0        5              0   \n",
      "11427            0          0.142857           6        2              1   \n",
      "11428            1          0.000000           0        2              0   \n",
      "11429            1          0.085954           0       24             18   \n",
      "\n",
      "       nb_slash  \n",
      "0             3  \n",
      "1             5  \n",
      "2             5  \n",
      "3             2  \n",
      "4             5  \n",
      "...         ...  \n",
      "11425         4  \n",
      "11426         5  \n",
      "11427         5  \n",
      "11428         3  \n",
      "11429         4  \n",
      "\n",
      "[11430 rows x 6 columns]\n",
      "---------------TARGET---------------------\n",
      "0        0\n",
      "1        1\n",
      "2        1\n",
      "3        0\n",
      "4        0\n",
      "        ..\n",
      "11425    0\n",
      "11426    1\n",
      "11427    0\n",
      "11428    0\n",
      "11429    1\n",
      "Name: status, Length: 11430, dtype: int64\n"
     ]
    }
   ],
   "source": [
    "# features we are using for training the model, which is a mixture of ints and floats\n",
    "X = data[['https_token', 'ratio_digits_url', 'nb_hyphens', 'nb_dots', 'nb_underscore', 'nb_slash']]\n",
    "# target class\n",
    "y = data['status']\n",
    "\n",
    "print(\"---------------FEATURES---------------------\")\n",
    "print(X)\n",
    "\n",
    "print(\"---------------TARGET---------------------\")\n",
    "print(y)"
   ]
  },
  {
   "cell_type": "code",
   "execution_count": 7,
   "id": "fa3d6695",
   "metadata": {},
   "outputs": [],
   "source": [
    "# split our data into train and test data groups, default is train size 75%, test size 25%\n",
    "X_train, X_test, y_train, y_test = train_test_split(X, y, random_state = 0)"
   ]
  },
  {
   "cell_type": "code",
   "execution_count": 8,
   "id": "ef0f1845",
   "metadata": {},
   "outputs": [
    {
     "data": {
      "text/plain": "<Figure size 640x480 with 1 Axes>",
      "image/png": "[encoded data removed]"
     },
     "metadata": {},
     "output_type": "display_data"
    }
   ],
   "source": [
    "from sklearn.neighbors import KNeighborsClassifier\n",
    "# code to find our best k to optimize our classifier's number of neighbors k\n",
    "k_values = [i for i in range (1,61)]\n",
    "scores = []\n",
    "\n",
    "from sklearn import datasets, linear_model\n",
    "from sklearn.model_selection import cross_val_score\n",
    "import seaborn as sns\n",
    "\n",
    "for k in k_values:\n",
    "    knn = KNeighborsClassifier(n_neighbors=k)\n",
    "    score = cross_val_score(knn, X, y, cv=5)\n",
    "    scores.append(np.mean(score))\n",
    "    \n",
    "best_index = np.argmax(scores)\n",
    "best_k = k_values[best_index]\n",
    "    \n",
    "# visualize the k findings \n",
    "sns.lineplot(x = k_values, y = scores, marker = 'o')\n",
    "plt.xlabel(\"K Values\")\n",
    "plt.ylabel(\"Accuracy Score\")\n",
    "\n",
    "# create instance of KNN classifier\n",
    "#### ran algorithm above to find best k ###\n",
    "knn = KNeighborsClassifier(n_neighbors = best_k)"
   ]
  },
  {
   "cell_type": "code",
   "execution_count": 9,
   "id": "0f8aac75",
   "metadata": {},
   "outputs": [
    {
     "data": {
      "text/plain": "KNeighborsClassifier(n_neighbors=18)",
      "text/html": "<style>#sk-container-id-1 {color: black;background-color: white;}#sk-container-id-1 pre{padding: 0;}#sk-container-id-1 div.sk-toggleable {background-color: white;}#sk-container-id-1 label.sk-toggleable__label {cursor: pointer;display: block;width: 100%;margin-bottom: 0;padding: 0.3em;box-sizing: border-box;text-align: center;}#sk-container-id-1 label.sk-toggleable__label-arrow:before {content: \"▸\";float: left;margin-right: 0.25em;color: #696969;}#sk-container-id-1 label.sk-toggleable__label-arrow:hover:before {color: black;}#sk-container-id-1 div.sk-estimator:hover label.sk-toggleable__label-arrow:before {color: black;}#sk-container-id-1 div.sk-toggleable__content {max-height: 0;max-width: 0;overflow: hidden;text-align: left;background-color: #f0f8ff;}#sk-container-id-1 div.sk-toggleable__content pre {margin: 0.2em;color: black;border-radius: 0.25em;background-color: #f0f8ff;}#sk-container-id-1 input.sk-toggleable__control:checked~div.sk-toggleable__content {max-height: 200px;max-width: 100%;overflow: auto;}#sk-container-id-1 input.sk-toggleable__control:checked~label.sk-toggleable__label-arrow:before {content: \"▾\";}#sk-container-id-1 div.sk-estimator input.sk-toggleable__control:checked~label.sk-toggleable__label {background-color: #d4ebff;}#sk-container-id-1 div.sk-label input.sk-toggleable__control:checked~label.sk-toggleable__label {background-color: #d4ebff;}#sk-container-id-1 input.sk-hidden--visually {border: 0;clip: rect(1px 1px 1px 1px);clip: rect(1px, 1px, 1px, 1px);height: 1px;margin: -1px;overflow: hidden;padding: 0;position: absolute;width: 1px;}#sk-container-id-1 div.sk-estimator {font-family: monospace;background-color: #f0f8ff;border: 1px dotted black;border-radius: 0.25em;box-sizing: border-box;margin-bottom: 0.5em;}#sk-container-id-1 div.sk-estimator:hover {background-color: #d4ebff;}#sk-container-id-1 div.sk-parallel-item::after {content: \"\";width: 100%;border-bottom: 1px solid gray;flex-grow: 1;}#sk-container-id-1 div.sk-label:hover label.sk-toggleable__label {background-color: #d4ebff;}#sk-container-id-1 div.sk-serial::before {content: \"\";position: absolute;border-left: 1px solid gray;box-sizing: border-box;top: 0;bottom: 0;left: 50%;z-index: 0;}#sk-container-id-1 div.sk-serial {display: flex;flex-direction: column;align-items: center;background-color: white;padding-right: 0.2em;padding-left: 0.2em;position: relative;}#sk-container-id-1 div.sk-item {position: relative;z-index: 1;}#sk-container-id-1 div.sk-parallel {display: flex;align-items: stretch;justify-content: center;background-color: white;position: relative;}#sk-container-id-1 div.sk-item::before, #sk-container-id-1 div.sk-parallel-item::before {content: \"\";position: absolute;border-left: 1px solid gray;box-sizing: border-box;top: 0;bottom: 0;left: 50%;z-index: -1;}#sk-container-id-1 div.sk-parallel-item {display: flex;flex-direction: column;z-index: 1;position: relative;background-color: white;}#sk-container-id-1 div.sk-parallel-item:first-child::after {align-self: flex-end;width: 50%;}#sk-container-id-1 div.sk-parallel-item:last-child::after {align-self: flex-start;width: 50%;}#sk-container-id-1 div.sk-parallel-item:only-child::after {width: 0;}#sk-container-id-1 div.sk-dashed-wrapped {border: 1px dashed gray;margin: 0 0.4em 0.5em 0.4em;box-sizing: border-box;padding-bottom: 0.4em;background-color: white;}#sk-container-id-1 div.sk-label label {font-family: monospace;font-weight: bold;display: inline-block;line-height: 1.2em;}#sk-container-id-1 div.sk-label-container {text-align: center;}#sk-container-id-1 div.sk-container {/* jupyter's `normalize.less` sets `[hidden] { display: none; }` but bootstrap.min.css set `[hidden] { display: none !important; }` so we also need the `!important` here to be able to override the default hidden behavior on the sphinx rendered scikit-learn.org. See: https://github.com/scikit-learn/scikit-learn/issues/21755 */display: inline-block !important;position: relative;}#sk-container-id-1 div.sk-text-repr-fallback {display: none;}</style><div id=\"sk-container-id-1\" class=\"sk-top-container\"><div class=\"sk-text-repr-fallback\"><pre>KNeighborsClassifier(n_neighbors=18)</pre><b>In a Jupyter environment, please rerun this cell to show the HTML representation or trust the notebook. <br />On GitHub, the HTML representation is unable to render, please try loading this page with nbviewer.org.</b></div><div class=\"sk-container\" hidden><div class=\"sk-item\"><div class=\"sk-estimator sk-toggleable\"><input class=\"sk-toggleable__control sk-hidden--visually\" id=\"sk-estimator-id-1\" type=\"checkbox\" checked><label for=\"sk-estimator-id-1\" class=\"sk-toggleable__label sk-toggleable__label-arrow\">KNeighborsClassifier</label><div class=\"sk-toggleable__content\"><pre>KNeighborsClassifier(n_neighbors=18)</pre></div></div></div></div></div>"
     },
     "execution_count": 9,
     "metadata": {},
     "output_type": "execute_result"
    }
   ],
   "source": [
    "# train our model using X and y train values\n",
    "knn.fit(X_train.values, y_train)"
   ]
  },
  {
   "cell_type": "code",
   "execution_count": 10,
   "id": "41f2a50a",
   "metadata": {},
   "outputs": [
    {
     "name": "stdout",
     "output_type": "stream",
     "text": [
      "Accuracy: 0.7925122463261022\n",
      "Precision: 0.8117998506348021\n",
      "Recall: 0.761204481792717\n"
     ]
    }
   ],
   "source": [
    "# test how \"good\" the model does at seeing unseen test data\n",
    "# get accuracy, precision and recall score to measure the performance of classifier\n",
    "from sklearn.metrics import accuracy_score\n",
    "from sklearn.metrics import precision_score\n",
    "from sklearn.metrics import recall_score\n",
    "\n",
    "y_pred = knn.predict(X_test.values)\n",
    "accuracy = accuracy_score(y_test, y_pred) # same as knn.score()\n",
    "precision = precision_score(y_test, y_pred)\n",
    "recall = recall_score(y_test, y_pred)\n",
    "\n",
    "print(\"Accuracy:\", accuracy)\n",
    "print(\"Precision:\", precision)\n",
    "print(\"Recall:\", recall)"
   ]
  },
  {
   "cell_type": "code",
   "execution_count": 11,
   "id": "f4090c63",
   "metadata": {},
   "outputs": [
    {
     "name": "stdout",
     "output_type": "stream",
     "text": [
      "There are:\n",
      "Hyphens:  4\n",
      "Dots:  2\n",
      "Slashes:  5\n",
      "Underscore:  0\n",
      "Ratio of digits:  0.8461538461538461\n",
      "https token:  1\n",
      "[0]\n"
     ]
    }
   ],
   "source": [
    "## set of URLs to use for testing prediction\n",
    "#url_to_predict = 'https://www.coursera.org/learn/python-machine-learning/lecture/MwsUM/k-nearest-neighbors-classification'\n",
    "# url_to_predict = 'https://app.simplenote.com/publish/XhRdVc'\n",
    "#url_to_predict = 'https://stackoverflow.com/questions/24878174/how-to-count-digits-letters-spaces-for-a-string-in-python'\n",
    "# url_to_predict = 'https://www.lionsgateplus.com/es/es/movies'\n",
    "url_to_predict = 'https://www.simplilearn.com/tutorials/python-tutorial/python-if-else-statement'\n",
    "# url_to_predict = 'https://tubitv.com/category/peliculas_en_espanol'\n",
    "\n",
    "# function to get how many digits there are in the url string, returns that number as an int\n",
    "def countDigits(string):\n",
    "    alpha = 0\n",
    "    for i in string:\n",
    "        if (i.isalpha()):\n",
    "            alpha+=1\n",
    "    return alpha\n",
    "\n",
    "# function to extract the features of the url used in the KNN classifier\n",
    "# takes url string as input\n",
    "# returns int for counts, and boolean for https_token being present or not\n",
    "def extract_features(url_to_predict):\n",
    "    hyphens = url_to_predict.count('-')  # grab how many hyphens\n",
    "    dots = url_to_predict.count('.')  # grab how many dots\n",
    "    slashes = url_to_predict.count('/')  # grab how many slashes\n",
    "    underscore = url_to_predict.count('_')  # grab how many underscores\n",
    "    ratio_of_digits = countDigits(url_to_predict)/len(url_to_predict)  # divide amount of digits by length of url\n",
    "    # determine whether https is present or not, true or false \n",
    "    https_token = url_to_predict.__contains__('https') \n",
    "    if (https_token):\n",
    "        https_token = 1\n",
    "    else:\n",
    "        https_token = 0\n",
    "        \n",
    "    # print statements for visualizing totals\n",
    "    print(\"There are:\")\n",
    "    print(\"Hyphens: \", hyphens)\n",
    "    print(\"Dots: \", dots)\n",
    "    print(\"Slashes: \", slashes)\n",
    "    print(\"Underscore: \", underscore)\n",
    "    print(\"Ratio of digits: \", ratio_of_digits)\n",
    "    print(\"https token: \", https_token)\n",
    "    \n",
    "    return https_token, ratio_of_digits, hyphens, dots, underscore, slashes\n",
    "    \n",
    "https_token, ratio_digits_url, nb_hyphens, nb_dots, nb_underscore, nb_slash = extract_features(url_to_predict)\n",
    "\n",
    "\n",
    "# make prediction using extracted features returned from our function call\n",
    "url_prediction = knn.predict([[https_token, ratio_digits_url, nb_hyphens, nb_dots, nb_underscore, nb_slash]])\n",
    "# print what that prediction is, raw\n",
    "print(url_prediction)"
   ]
  },
  {
   "cell_type": "code",
   "execution_count": 12,
   "id": "da48ff48",
   "metadata": {},
   "outputs": [
    {
     "data": {
      "text/plain": "['legitimate']"
     },
     "execution_count": 12,
     "metadata": {},
     "output_type": "execute_result"
    }
   ],
   "source": [
    "# de-encode this KNN classifier prediction value, resulting in the text-string that corresponds to that value\n",
    "list(le.inverse_transform(url_prediction))"
   ]
  }
 ],
 "metadata": {
  "kernelspec": {
   "display_name": "Python 3 (ipykernel)",
   "language": "python",
   "name": "python3"
  },
  "language_info": {
   "codemirror_mode": {
    "name": "ipython",
    "version": 3
   },
   "file_extension": ".py",
   "mimetype": "text/x-python",
   "name": "python",
   "nbconvert_exporter": "python",
   "pygments_lexer": "ipython3",
   "version": "3.9.14"
  }
 },
 "nbformat": 4,
 "nbformat_minor": 5
}
