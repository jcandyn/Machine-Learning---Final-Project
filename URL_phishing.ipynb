{
 "cells": [
  {
   "cell_type": "markdown",
   "id": "db900ba6",
   "metadata": {},
   "source": [
    "## KNN Classifier Implemented by Joscandy Nunez"
   ]
  },
  {
   "cell_type": "code",
   "execution_count": null,
   "id": "06c5ba52",
   "metadata": {},
   "outputs": [
    {
     "ename": "",
     "evalue": "",
     "output_type": "error",
     "traceback": [
      "\u001b[1;31mRunning cells with 'Python 3.8.9 64-bit' requires ipykernel package.\n",
      "Run the following command to install 'ipykernel' into the Python environment. \n",
      "Command: '/usr/bin/python3 -m pip install ipykernel -U --user --force-reinstall'"
     ]
    }
   ],
   "source": [
    "import numpy as np\n",
    "import matplotlib.pyplot as plt\n",
    "import pandas as pd\n",
    "from sklearn.model_selection import train_test_split\n",
    "\n",
    "# read in data\n",
    "data = pd.read_csv('dataset_phishing.csv')\n",
    "# observe a few samples of the data\n",
    "data[:,['https_token', 'ratio_digits_url', 'nb_hyphens', 'nb_dots', 'nb_underscore', 'nb_slash', 'status']].head()\n"
   ]
  },
  {
   "cell_type": "code",
   "execution_count": null,
   "id": "95dc0ee3",
   "metadata": {},
   "outputs": [],
   "source": [
    "# observe entire data\n",
    "data.head()"
   ]
  },
  {
   "cell_type": "code",
   "execution_count": null,
   "id": "7c884335",
   "metadata": {},
   "outputs": [],
   "source": [
    "data.info() # further analysis for data cleaning purposes"
   ]
  },
  {
   "cell_type": "code",
   "execution_count": null,
   "id": "71653514",
   "metadata": {},
   "outputs": [],
   "source": [
    "from sklearn.tree import DecisionTreeClassifier\n",
    "from sklearn import preprocessing\n",
    "\n",
    "# encode data\n",
    "# temporarily turn text like \"phishing\" and \"legitimate\" into numbers 1 and 0, respectively\n",
    "le = preprocessing.LabelEncoder()\n",
    "le.fit([\"phishing\", \"legitimate\"]) # status of url is the corresponding feature, our target class\n",
    "transformedClass = le.transform(data.status[:].values) # get the new values\n",
    "print(\"text values \", data.status[:].values, \"become \", transformedClass)\n",
    "data['status'] = transformedClass # swap the old values with the new encoded values"
   ]
  },
  {
   "cell_type": "code",
   "execution_count": null,
   "id": "64e221e1",
   "metadata": {},
   "outputs": [],
   "source": [
    "# features we are using for training the model, which is a mixture of ints and floats\n",
    "X = data[['https_token', 'ratio_digits_url', 'nb_hyphens', 'nb_dots', 'nb_underscore', 'nb_slash']]\n",
    "# target class\n",
    "y = data['status']\n",
    "\n",
    "print(\"---------------FEATURES---------------------\")\n",
    "print(X)\n",
    "\n",
    "print(\"---------------TARGET---------------------\")\n",
    "print(y)"
   ]
  },
  {
   "cell_type": "code",
   "execution_count": null,
   "id": "fa3d6695",
   "metadata": {},
   "outputs": [],
   "source": [
    "# split our data into train and test data groups, default is train size 75%, test size 25%\n",
    "X_train, X_test, y_train, y_test = train_test_split(X, y, random_state = 0)"
   ]
  },
  {
   "cell_type": "code",
   "execution_count": null,
   "id": "ef0f1845",
   "metadata": {},
   "outputs": [],
   "source": [
    "from sklearn.neighbors import KNeighborsClassifier\n",
    "# code to find our best k to optimize our classifier's number of neighbors k\n",
    "k_values = [i for i in range (1,61)]\n",
    "scores = []\n",
    "\n",
    "from sklearn import datasets, linear_model\n",
    "from sklearn.model_selection import cross_val_score\n",
    "import seaborn as sns\n",
    "\n",
    "for k in k_values:\n",
    "    knn = KNeighborsClassifier(n_neighbors=k)\n",
    "    score = cross_val_score(knn, X, y, cv=5)\n",
    "    scores.append(np.mean(score))\n",
    "    \n",
    "best_index = np.argmax(scores)\n",
    "best_k = k_values[best_index]\n",
    "    \n",
    "# visualize the k findings \n",
    "sns.lineplot(x = k_values, y = scores, marker = 'o')\n",
    "plt.xlabel(\"K Values\")\n",
    "plt.ylabel(\"Accuracy Score\")\n",
    "\n",
    "# create instance of KNN classifier\n",
    "#### ran algorithm above to find best k ###\n",
    "knn = KNeighborsClassifier(n_neighbors = best_k)"
   ]
  },
  {
   "cell_type": "code",
   "execution_count": null,
   "id": "0f8aac75",
   "metadata": {},
   "outputs": [],
   "source": [
    "# train our model using X and y train values\n",
    "knn.fit(X_train.values, y_train)"
   ]
  },
  {
   "cell_type": "code",
   "execution_count": null,
   "id": "41f2a50a",
   "metadata": {},
   "outputs": [],
   "source": [
    "# test how \"good\" the model does at seeing unseen test data\n",
    "# get accuracy, precision and recall score to measure the performance of classifier\n",
    "from sklearn.metrics import accuracy_score\n",
    "from sklearn.metrics import precision_score\n",
    "from sklearn.metrics import recall_score\n",
    "\n",
    "y_pred = knn.predict(X_test.values)\n",
    "accuracy = accuracy_score(y_test, y_pred) # same as knn.score()\n",
    "precision = precision_score(y_test, y_pred)\n",
    "recall = recall_score(y_test, y_pred)\n",
    "\n",
    "print(\"Accuracy:\", accuracy)\n",
    "print(\"Precision:\", precision)\n",
    "print(\"Recall:\", recall)"
   ]
  },
  {
   "cell_type": "code",
   "execution_count": null,
   "id": "f4090c63",
   "metadata": {},
   "outputs": [],
   "source": [
    "## set of URLs to use for testing prediction\n",
    "#url_to_predict = 'https://www.coursera.org/learn/python-machine-learning/lecture/MwsUM/k-nearest-neighbors-classification'\n",
    "# url_to_predict = 'https://app.simplenote.com/publish/XhRdVc'\n",
    "#url_to_predict = 'https://stackoverflow.com/questions/24878174/how-to-count-digits-letters-spaces-for-a-string-in-python'\n",
    "# url_to_predict = 'https://www.lionsgateplus.com/es/es/movies'\n",
    "url_to_predict = 'https://www.simplilearn.com/tutorials/python-tutorial/python-if-else-statement'\n",
    "# url_to_predict = 'https://tubitv.com/category/peliculas_en_espanol'\n",
    "\n",
    "# function to get how many digits there are in the url string, returns that number as an int\n",
    "def countDigits(string):\n",
    "    alpha = 0\n",
    "    for i in string:\n",
    "        if (i.isalpha()):\n",
    "            alpha+=1\n",
    "    return alpha\n",
    "\n",
    "# function to extract the features of the url used in the KNN classifier\n",
    "# takes url string as input\n",
    "# returns int for counts, and boolean for https_token being present or not\n",
    "def extract_features(url_to_predict):\n",
    "    hyphens = url_to_predict.count('-')  # grab how many hyphens\n",
    "    dots = url_to_predict.count('.')  # grab how many dots\n",
    "    slashes = url_to_predict.count('/')  # grab how many slashes\n",
    "    underscore = url_to_predict.count('_')  # grab how many underscores\n",
    "    ratio_of_digits = countDigits(url_to_predict)/len(url_to_predict)  # divide amount of digits by length of url\n",
    "    # determine whether https is present or not, true or false \n",
    "    https_token = url_to_predict.__contains__('https') \n",
    "    if (https_token):\n",
    "        https_token = 1\n",
    "    else:\n",
    "        https_token = 0\n",
    "        \n",
    "    # print statements for visualizing totals\n",
    "    print(\"There are:\")\n",
    "    print(\"Hyphens: \", hyphens)\n",
    "    print(\"Dots: \", dots)\n",
    "    print(\"Slashes: \", slashes)\n",
    "    print(\"Underscore: \", underscore)\n",
    "    print(\"Ratio of digits: \", ratio_of_digits)\n",
    "    print(\"https token: \", https_token)\n",
    "    \n",
    "    return https_token, ratio_of_digits, hyphens, dots, underscore, slashes\n",
    "    \n",
    "https_token, ratio_digits_url, nb_hyphens, nb_dots, nb_underscore, nb_slash = extract_features(url_to_predict)\n",
    "\n",
    "\n",
    "# make prediction using extracted features returned from our function call\n",
    "url_prediction = knn.predict([[https_token, ratio_digits_url, nb_hyphens, nb_dots, nb_underscore, nb_slash]])\n",
    "# print what that prediction is, raw\n",
    "print(url_prediction)"
   ]
  },
  {
   "cell_type": "code",
   "execution_count": null,
   "id": "da48ff48",
   "metadata": {},
   "outputs": [],
   "source": [
    "# de-encode this KNN classifier prediction value, resulting in the text-string that corresponds to that value\n",
    "list(le.inverse_transform(url_prediction))"
   ]
  }
 ],
 "metadata": {
  "kernelspec": {
   "display_name": "Python 3 (ipykernel)",
   "language": "python",
   "name": "python3"
  },
  "language_info": {
   "codemirror_mode": {
    "name": "ipython",
    "version": 3
   },
   "file_extension": ".py",
   "mimetype": "text/x-python",
   "name": "python",
   "nbconvert_exporter": "python",
   "pygments_lexer": "ipython3",
   "version": "3.8.9"
  }
 },
 "nbformat": 4,
 "nbformat_minor": 5
}
